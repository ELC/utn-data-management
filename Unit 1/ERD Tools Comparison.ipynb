{
 "cells": [
  {
   "cell_type": "markdown",
   "metadata": {},
   "source": [
    "# Online Tools Comparison for Entity-Relationship Diagrams\n",
    "\n",
    "\n",
    "## Next Section: [Exercise 01](Exercise 01.ipynb)\n",
    "\n",
    "## [Table of Contents](Table of Contents.ipynb)\n",
    "\n",
    "\n",
    "(*)These images are static images, for the lastest updates, check the source. If you notice something is changed, please make an issue for update"
   ]
  },
  {
   "cell_type": "markdown",
   "metadata": {},
   "source": [
    "In the following notebook we will compare several tools, all of them have been selected according to these criteria:\n",
    "- Web Based: Can be executed with nothing more than a web broser\n",
    "- Free: Free to use, even if there are paid plans\n",
    "- No trial: Should have no limit of time for free use\n",
    "- Type of Diagram: Should provide tools for the following conventions\n",
    "    - Chen\n",
    "    - Crow's Foot\n",
    "\n",
    "Besides, the following will be consider as some determinant factors:\n",
    "- Integration: Being connected with other services such as GDrive\n",
    "- Flexibility: Being useful in other areas besides the needed for this subject\n",
    "- Interface: Having an user-friendly interface\n",
    "- Convert: Being able to convert the diagram into relational schema\n",
    "\n",
    "List of consider but not included tools due to not satisfy the criteria:\n",
    "- [Grapholite](https://grapholite.com/): Does not have free account option\n",
    "- [LovelyCharts](http://lovelycharts.com/): The free account is for a limited time\n",
    "- [Dia](https://wiki.gnome.org/Apps/Dia): The app has beenn discontinued\n",
    "- [Smart Draw Cloud](https://www.smartdraw.com): Does not have free account option"
   ]
  },
  {
   "cell_type": "markdown",
   "metadata": {},
   "source": [
    "## Available Options"
   ]
  },
  {
   "cell_type": "markdown",
   "metadata": {},
   "source": [
    "| Name                         \t| [LucidChart](https://www.lucidchart.com) \t| [Creately](https://creately.com) \t| [Cacoo](https://cacoo.com) \t| [Gliffy](https://www.gliffy.com) \t| [ERDPlus](https://erdplus.com) \t| [Pony](https://ponyorm.com/) \t| [Draw.io](https://www.draw.io) \t|Weight (0-10)\t\t|\n",
    "|------------------------------\t|------------------------------------------\t|----------------------------------\t|----------------------------\t|----------------------------------\t|--------------------------------\t|------------------------------\t|--------------------------------\t|-----------------------|\n",
    "| Price                        \t| Free/Paid                                \t| Free/Paid                        \t| Free/Paid                  \t| Free/Paid                        \t| Free                           \t| Free                         \t| Free                           \t| 10\t\t\t|\n",
    "| No of Diagrams               \t| 3                                        \t| 5                                \t| 15                         \t| 5                                \t| Unlimited                      \t| Unlimited                    \t| Unlimited                      \t| 10\t\t\t|\n",
    "| Share Link                   \t| ✔                                        \t| ✔                                \t| ✔                          \t| ✔                                \t| X                              \t| ✔                            \t| ✔                              \t| 7\t\t\t|\n",
    "| User Friendly UI             \t| ✔                                        \t| ✔                                \t| X                          \t| ✔                                \t| ✔                              \t| ✔                            \t| ✔                              \t| 8\t\t\t|\n",
    "| GDrive Integration           \t| ✔                                        \t| X                                \t| ✔                          \t| ✔                                \t| X                              \t| X                            \t| ✔                              \t| 7\t\t\t|\n",
    "| Chen                         \t| X                                        \t| ✔                                \t| ✔                          \t| ✔                                \t| ✔                              \t| X                            \t| ✔                              \t| 9\t\t\t|\n",
    "| Crow's Foot                  \t| X                                        \t| X                                \t| ✔                          \t| ✔                                \t| ✔                              \t| X                            \t| ✔                              \t| 2\t\t\t|\n",
    "| Relational Schema            \t| ✔                                        \t| X                                \t| X                          \t| X                                \t| ✔                              \t| ✔                            \t| ✔                              \t| 2\t\t\t|\n",
    "| Automatic Connection         \t| X                                        \t| X                                \t| X                          \t| X                                \t| ✔                              \t| ✔                            \t| X                              \t| 3\t\t\t|\n",
    "| Convert to Relational Schema \t| X                                        \t| X                                \t| X                          \t| X                                \t| ✔                              \t| X                            \t| X                              \t| 2\t\t\t|\n",
    "| Convert To Code              \t| X                                        \t| X                                \t| X                          \t| X                                \t| ✔                              \t| ✔                            \t| X                              \t| 2\t\t\t|\n"
   ]
  },
  {
   "cell_type": "markdown",
   "metadata": {},
   "source": [
    "## Free Options"
   ]
  },
  {
   "cell_type": "markdown",
   "metadata": {},
   "source": [
    "| Name                         \t| [ERDPlus](https://erdplus.com) \t| [Pony](https://ponyorm.com/) \t| [Draw.io](https://www.draw.io) \t|Weight (0-10)\t\t|\n",
    "|------------------------------\t|--------------------------------\t|------------------------------\t|--------------------------------\t|----------------------\t|\n",
    "| Share Link                   \t| X                              \t| ✔                            \t| ✔                              \t| 7\t\t\t|\n",
    "| GDrive Integration           \t| X*                              \t| X*                           \t| ✔**                              \t| 7\t\t\t|\n",
    "| Chen                         \t| ✔                              \t| X                            \t| ✔                              \t| 9\t\t\t|\n",
    "| Crow's Foot                  \t| ✔                              \t| X                            \t| ✔                              \t| 2\t\t\t|\n",
    "| Automatic Connection         \t| ✔                              \t| ✔                            \t| X                              \t| 3\t\t\t|\n",
    "| Convert to Relational Schema \t| ✔ (Beta)                         \t| X                            \t| X                              \t| 2\t\t\t|\n",
    "| Convert To Code              \t| ✔ (Beta)                         \t| ✔\\***                        \t| X                              \t| 2\t\t\t|\n",
    "\n",
    "\n",
    "| Name                         \t| [ERDPlus](https://erdplus.com) \t| [Pony](https://ponyorm.com/) \t| [Draw.io](https://www.draw.io) \t|\n",
    "|------------------------------\t|--------------------------------\t|------------------------------\t|--------------------------------\t|\n",
    "| Total Weight                 \t| 18                            \t| 12                        \t| 25                             \t|\n",
    "\n",
    "(\\*) Files are storage in the cloud\n",
    "\n",
    "(\\**) Files have to be storaged in a third party services, the options are: GDrive, GitHub, Dropbox, OneDrive or Locally\n",
    "\n",
    "(\\***) Can convert to Python, SQLite, MySQL, PostgreeSQL and Oracle\n",
    "\n",
    "\n"
   ]
  },
  {
   "cell_type": "markdown",
   "metadata": {},
   "source": [
    "### [ERDPlus](https://erdplus.com)"
   ]
  },
  {
   "cell_type": "markdown",
   "metadata": {},
   "source": [
    "Screenshot"
   ]
  },
  {
   "cell_type": "markdown",
   "metadata": {},
   "source": [
    "![ERDPlus](images/ERDPlus.PNG)"
   ]
  },
  {
   "cell_type": "markdown",
   "metadata": {},
   "source": [
    "Exported image"
   ]
  },
  {
   "cell_type": "markdown",
   "metadata": {},
   "source": [
    "![ERDPlus-exported](images/ERDPlus-exported.png)"
   ]
  },
  {
   "cell_type": "markdown",
   "metadata": {},
   "source": [
    "### [Pony](https://ponyorm.com/)"
   ]
  },
  {
   "cell_type": "markdown",
   "metadata": {},
   "source": [
    "### [Public Link](https://editor.ponyorm.com/user/Skielcast/erdtest)"
   ]
  },
  {
   "cell_type": "markdown",
   "metadata": {},
   "source": [
    "#### Diagram"
   ]
  },
  {
   "cell_type": "markdown",
   "metadata": {},
   "source": [
    "![Pony](images/Pony.PNG)"
   ]
  },
  {
   "cell_type": "markdown",
   "metadata": {},
   "source": [
    "Exported Image"
   ]
  },
  {
   "cell_type": "markdown",
   "metadata": {},
   "source": [
    "![Pony_Exported](images/Pony_Exported.png)"
   ]
  },
  {
   "cell_type": "markdown",
   "metadata": {},
   "source": [
    "#### Code"
   ]
  },
  {
   "cell_type": "markdown",
   "metadata": {},
   "source": [
    "![PonyCode](images/Pony_Code.PNG)"
   ]
  },
  {
   "cell_type": "markdown",
   "metadata": {},
   "source": [
    "### [Draw io](http://Draw.io)"
   ]
  },
  {
   "cell_type": "markdown",
   "metadata": {},
   "source": [
    "### [Public Link](https://www.draw.io/#G0B4YrpUMyKgQzNU1mYUJCRk5qc3c)"
   ]
  },
  {
   "cell_type": "markdown",
   "metadata": {},
   "source": [
    "![Draw.io](images/draw.io.PNG)"
   ]
  },
  {
   "cell_type": "markdown",
   "metadata": {},
   "source": [
    "Exported Image"
   ]
  },
  {
   "cell_type": "markdown",
   "metadata": {},
   "source": [
    "![draw.io_exported](images/draw.io_exported.png)"
   ]
  }
 ],
 "metadata": {
  "kernelspec": {
   "display_name": "Python 3",
   "language": "python",
   "name": "python3"
  },
  "language_info": {
   "codemirror_mode": {
    "name": "ipython",
    "version": 3
   },
   "file_extension": ".py",
   "mimetype": "text/x-python",
   "name": "python",
   "nbconvert_exporter": "python",
   "pygments_lexer": "ipython3",
   "version": "3.6.0"
  }
 },
 "nbformat": 4,
 "nbformat_minor": 2
}
