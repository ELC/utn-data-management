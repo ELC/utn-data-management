{
 "cells": [
  {
   "cell_type": "markdown",
   "metadata": {},
   "source": [
    "<div style='text-align:center' >\n",
    "    <h1>\n",
    "        Exercise 03\n",
    "    </h1>\n",
    "    <h3>\n",
    "        [Source](https://goo.gl/pJsaAR)\n",
    "    </h3>\n",
    "</div>\n",
    "\n",
    "<h2><div style=\"float:left; text-align:left; width:*;line-height: 150%\">\n",
    "Previous Section:<br>[Exercise 02](Exercise 02.ipynb)\n",
    "</div> \n",
    "<div style=\"float:right; text-align:right; width:*;line-height: 150%\">\n",
    "Next Section:<br>[Exercise 04](Exercise 04.ipynb)\n",
    "</div>\n",
    "<div style='margin: 0 auto; text-align:center; width:200px;line-height: 150%' >\n",
    "[Table of Contents](Table of Contents.ipynb)\n",
    "</div></h2>\n",
    "\n",
    "<p>(*)These images are static images, for the lastest updates, check the source. If you notice something is changed, please make an issue for update</p>"
   ]
  },
  {
   "cell_type": "markdown",
   "metadata": {},
   "source": [
    "## Version 1"
   ]
  },
  {
   "cell_type": "markdown",
   "metadata": {
    "collapsed": true
   },
   "source": [
    "![Version1](DM ERD Ex03-1.png)"
   ]
  },
  {
   "cell_type": "markdown",
   "metadata": {},
   "source": [
    "## Version 2"
   ]
  },
  {
   "cell_type": "markdown",
   "metadata": {},
   "source": [
    "![Version 2](DM ERD Ex03-2.png)"
   ]
  }
 ],
 "metadata": {
  "kernelspec": {
   "display_name": "Python 3",
   "language": "python",
   "name": "python3"
  },
  "language_info": {
   "codemirror_mode": {
    "name": "ipython",
    "version": 3
   },
   "file_extension": ".py",
   "mimetype": "text/x-python",
   "name": "python",
   "nbconvert_exporter": "python",
   "pygments_lexer": "ipython3",
   "version": "3.6.0"
  }
 },
 "nbformat": 4,
 "nbformat_minor": 2
}
