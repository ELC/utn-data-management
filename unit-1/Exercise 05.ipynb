{
 "cells": [
  {
   "cell_type": "markdown",
   "metadata": {},
   "source": [
    "<div style='text-align:center'>\n",
    "    <h1>\n",
    "        Exercise 05\n",
    "    </h1>\n",
    "    <h3>\n",
    "        <a href=\"https://goo.gl/Oo9a43\">Source</a>\n",
    "    </h3>\n",
    "</div>\n",
    "\n",
    "<h2>\n",
    "    <div style=\"float:left; text-align:left; width:*;line-height: 150%\">\n",
    "        Previous Section:<br><a href=\"Exercise 04.ipynb\">Exercise 04</a>\n",
    "    </div>\n",
    "\n",
    "    <div style=\"float:right; text-align:right; width:*;line-height: 150%\">\n",
    "        Next Section:<br><a href=\"Exercise 06.ipynb\">Exercise 06</a>\n",
    "    </div>\n",
    "    \n",
    "    <div style='margin: 0 auto; text-align:center; width:200px;line-height: 150%' >\n",
    "        <a href=\"index.ipynb\">Table of Contents</a>\n",
    "    </div>\n",
    "</h2>\n",
    "\n",
    "<br>\n",
    "<p>(*)These images are static images, for the lastest updates, check the source. If you notice something is changed, please make an issue for update</p>"
   ]
  },
  {
   "cell_type": "markdown",
   "metadata": {},
   "source": [
    "## Version 1"
   ]
  },
  {
   "cell_type": "markdown",
   "metadata": {
    "collapsed": true
   },
   "source": [
    "![Version](images/DM-ERD-Ex05-1.png)"
   ]
  },
  {
   "cell_type": "markdown",
   "metadata": {},
   "source": [
    "## Version 2"
   ]
  },
  {
   "cell_type": "markdown",
   "metadata": {},
   "source": [
    "![Version](images/DM-ERD-Ex05-2.png)"
   ]
  }
 ],
 "metadata": {
  "kernelspec": {
   "display_name": "Python 3",
   "language": "python",
   "name": "python3"
  },
  "language_info": {
   "codemirror_mode": {
    "name": "ipython",
    "version": 3
   },
   "file_extension": ".py",
   "mimetype": "text/x-python",
   "name": "python",
   "nbconvert_exporter": "python",
   "pygments_lexer": "ipython3",
   "version": "3.6.0"
  }
 },
 "nbformat": 4,
 "nbformat_minor": 2
}
