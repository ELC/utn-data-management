{
 "cells": [
  {
   "cell_type": "markdown",
   "metadata": {},
   "source": [
    "# Exercise 01\n",
    "\n",
    "### [Source](https://goo.gl/yA3aUY)\n",
    "\n",
    "## Previous Section: [ERD Tools Comparison](ERD Tools Comparison.ipynb)\n",
    "\n",
    "## Next Section: [Exercise 02](Exercise 02.ipynb)\n",
    "\n",
    "## [Table of Contents](Table of Contents.ipynb)\n",
    "\n",
    "\n",
    "(*)These images are static images, for the lastest updates, check the source. If you notice something is changed, please make an issue for update"
   ]
  },
  {
   "cell_type": "markdown",
   "metadata": {},
   "source": [
    "## Version 1"
   ]
  },
  {
   "cell_type": "markdown",
   "metadata": {
    "collapsed": true
   },
   "source": [
    "![Version1](./DM-ERD-Ex01-1.png)"
   ]
  },
  {
   "cell_type": "markdown",
   "metadata": {},
   "source": [
    "## Version 2"
   ]
  },
  {
   "cell_type": "markdown",
   "metadata": {},
   "source": [
    "![Version 2](./DM-ERD-Ex01-2.png)"
   ]
  }
 ],
 "metadata": {
  "kernelspec": {
   "display_name": "Python 3",
   "language": "python",
   "name": "python3"
  },
  "language_info": {
   "codemirror_mode": {
    "name": "ipython",
    "version": 3
   },
   "file_extension": ".py",
   "mimetype": "text/x-python",
   "name": "python",
   "nbconvert_exporter": "python",
   "pygments_lexer": "ipython3",
   "version": "3.6.0"
  }
 },
 "nbformat": 4,
 "nbformat_minor": 2
}
